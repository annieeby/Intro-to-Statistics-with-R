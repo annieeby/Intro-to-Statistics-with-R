{
 "cells": [
  {
   "cell_type": "code",
   "execution_count": 1,
   "metadata": {},
   "outputs": [],
   "source": [
    "# To make R treat these values as nominal variables instead of numbers, you should use the factor() function. \n",
    "# This function takes the name of the vector to transform and converts its elements into nominal factor variables."
   ]
  },
  {
   "cell_type": "code",
   "execution_count": 2,
   "metadata": {},
   "outputs": [
    {
     "data": {
      "text/html": [
       "'numeric'"
      ],
      "text/latex": [
       "'numeric'"
      ],
      "text/markdown": [
       "'numeric'"
      ],
      "text/plain": [
       "[1] \"numeric\""
      ]
     },
     "metadata": {},
     "output_type": "display_data"
    },
    {
     "data": {
      "text/html": [
       "'factor'"
      ],
      "text/latex": [
       "'factor'"
      ],
      "text/markdown": [
       "'factor'"
      ],
      "text/plain": [
       "[1] \"factor\""
      ]
     },
     "metadata": {},
     "output_type": "display_data"
    }
   ],
   "source": [
    "# Create a numeric vector with the identifiers of the participants of your survey\n",
    "# Assign a vector containing the numbers 2, 3, 5, 7, 11, 13, 17 to the variable participants1\n",
    "participants1 <- c(2, 3, 5, 7, 11, 13, 17)\n",
    "\n",
    "# Check what type of values R thinks the vector consists of\n",
    "class(participants1)\n",
    "\n",
    "# Transform the numeric vector to a factor vector\n",
    "participants2 <- factor(participants1)\n",
    "\n",
    "# Check what type of values R thinks the vector consists of now\n",
    "class(participants2)"
   ]
  },
  {
   "cell_type": "code",
   "execution_count": 3,
   "metadata": {},
   "outputs": [],
   "source": [
    "# The factor() function also allows you to assign an order to the nominal variables, thus making them ordinal variables. \n",
    "# This is done by setting the order parameter to TRUE and by assigning a vector with the desired level hierarchy to the argument levels. "
   ]
  },
  {
   "cell_type": "code",
   "execution_count": 8,
   "metadata": {},
   "outputs": [
    {
     "name": "stdout",
     "output_type": "stream",
     "text": [
      "[1] \"original vector:\"\n"
     ]
    },
    {
     "data": {
      "text/html": [
       "<ol class=list-inline>\n",
       "\t<li>'High'</li>\n",
       "\t<li>'Low'</li>\n",
       "\t<li>'High'</li>\n",
       "\t<li>'Low'</li>\n",
       "\t<li>'Medium'</li>\n",
       "</ol>\n"
      ],
      "text/latex": [
       "\\begin{enumerate*}\n",
       "\\item 'High'\n",
       "\\item 'Low'\n",
       "\\item 'High'\n",
       "\\item 'Low'\n",
       "\\item 'Medium'\n",
       "\\end{enumerate*}\n"
      ],
      "text/markdown": [
       "1. 'High'\n",
       "2. 'Low'\n",
       "3. 'High'\n",
       "4. 'Low'\n",
       "5. 'Medium'\n",
       "\n",
       "\n"
      ],
      "text/plain": [
       "[1] \"High\"   \"Low\"    \"High\"   \"Low\"    \"Medium\""
      ]
     },
     "metadata": {},
     "output_type": "display_data"
    },
    {
     "name": "stdout",
     "output_type": "stream",
     "text": [
      "[1] \"factor vector:\"\n"
     ]
    },
    {
     "data": {
      "text/html": [
       "<ol class=list-inline>\n",
       "\t<li>High</li>\n",
       "\t<li>Low</li>\n",
       "\t<li>High</li>\n",
       "\t<li>Low</li>\n",
       "\t<li>Medium</li>\n",
       "</ol>\n",
       "\n",
       "<details>\n",
       "\t<summary style=display:list-item;cursor:pointer>\n",
       "\t\t<strong>Levels</strong>:\n",
       "\t</summary>\n",
       "\t<ol class=list-inline>\n",
       "\t\t<li>'Low'</li>\n",
       "\t\t<li>'Medium'</li>\n",
       "\t\t<li>'High'</li>\n",
       "\t</ol>\n",
       "</details>"
      ],
      "text/latex": [
       "\\begin{enumerate*}\n",
       "\\item High\n",
       "\\item Low\n",
       "\\item High\n",
       "\\item Low\n",
       "\\item Medium\n",
       "\\end{enumerate*}\n",
       "\n",
       "\\emph{Levels}: \\begin{enumerate*}\n",
       "\\item 'Low'\n",
       "\\item 'Medium'\n",
       "\\item 'High'\n",
       "\\end{enumerate*}\n"
      ],
      "text/markdown": [
       "1. High\n",
       "2. Low\n",
       "3. High\n",
       "4. Low\n",
       "5. Medium\n",
       "\n",
       "\n",
       "\n",
       "**Levels**: 1. 'Low'\n",
       "2. 'Medium'\n",
       "3. 'High'\n",
       "\n",
       "\n"
      ],
      "text/plain": [
       "[1] High   Low    High   Low    Medium\n",
       "Levels: Low < Medium < High"
      ]
     },
     "metadata": {},
     "output_type": "display_data"
    }
   ],
   "source": [
    "# Consider the categorical variable temperature_vector with the categories \"Low\" , \"Medium\" and \"High\". \n",
    "# Here it's obvious that \"Medium\" stands above \"Low\", and that \"High\" stands above \"Medium\". \n",
    "# Let's use R to create this rank ordering among weather observations.\n",
    "\n",
    "# Create a vector of temperature observations\n",
    "temperature_vector <- c(\"High\", \"Low\", \"High\", \"Low\", \"Medium\")\n",
    "\n",
    "print(\"original vector:\")\n",
    "temperature_vector\n",
    "\n",
    "# Specify that they are ordinal variables with the given levels\n",
    "factor_temperature_vector <- factor(temperature_vector, order = TRUE, \n",
    "                                    levels = c(\"Low\", \"Medium\", \"High\"))\n",
    "\n",
    "print(\"factor vector:\")\n",
    "# Print the result to the console\n",
    "factor_temperature_vector"
   ]
  },
  {
   "cell_type": "code",
   "execution_count": 9,
   "metadata": {},
   "outputs": [],
   "source": [
    "# R has no special way of dealing with interval and ratio variables. \n",
    "# In fact, it's not necessary because you can just use plain old numeric values.\n",
    "\n",
    "# Create an interval variable called longitudes\n",
    "longitudes <- c(10, 20, 30, 40)\n",
    "\n",
    "# Create a ratio variable called chronos\n",
    "chronos <- c(10.60, 10.12, 9.58, 11.1)"
   ]
  }
 ],
 "metadata": {
  "kernelspec": {
   "display_name": "R",
   "language": "R",
   "name": "ir"
  },
  "language_info": {
   "codemirror_mode": "r",
   "file_extension": ".r",
   "mimetype": "text/x-r-source",
   "name": "R",
   "pygments_lexer": "r",
   "version": "3.5.0"
  }
 },
 "nbformat": 4,
 "nbformat_minor": 2
}
